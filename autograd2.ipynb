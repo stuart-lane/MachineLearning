{
  "nbformat": 4,
  "nbformat_minor": 0,
  "metadata": {
    "colab": {
      "provenance": [],
      "authorship_tag": "ABX9TyPyJ1m7h2HboA7NJY7uVT+i",
      "include_colab_link": true
    },
    "kernelspec": {
      "name": "python3",
      "display_name": "Python 3"
    },
    "language_info": {
      "name": "python"
    }
  },
  "cells": [
    {
      "cell_type": "markdown",
      "metadata": {
        "id": "view-in-github",
        "colab_type": "text"
      },
      "source": [
        "<a href=\"https://colab.research.google.com/github/stuartIane/MachineLearning/blob/main/autograd2.ipynb\" target=\"_parent\"><img src=\"https://colab.research.google.com/assets/colab-badge.svg\" alt=\"Open In Colab\"/></a>"
      ]
    },
    {
      "cell_type": "code",
      "execution_count": 2,
      "metadata": {
        "id": "zWeMy275287D",
        "outputId": "260cd709-1d9f-465f-9f1f-024f8b283965",
        "colab": {
          "base_uri": "https://localhost:8080/"
        }
      },
      "outputs": [
        {
          "output_type": "execute_result",
          "data": {
            "text/plain": [
              "CompletedProcess(args=['pip', 'install', 'torch-cpu'], returncode=1)"
            ]
          },
          "metadata": {},
          "execution_count": 2
        }
      ],
      "source": [
        "import os\n",
        "import subprocess\n",
        "\n",
        "# Set environment variables\n",
        "os.environ[\"CUDA\"] = \"cpu\"  # Set CUDA to CPU (no GPU support)\n",
        "os.environ[\"TORCH_INSTALL\"] = \"1\"\n",
        "\n",
        "# Install the torch package (assuming you are using pip)\n",
        "subprocess.run([\"pip\", \"install\", \"torch\"])\n",
        "\n",
        "# Download and install PyTorch (assuming you want the CPU version)\n",
        "subprocess.run([\"pip\", \"install\", \"torch-cpu\"])"
      ]
    },
    {
      "cell_type": "code",
      "source": [],
      "metadata": {
        "id": "zp__5KH3WvLW"
      },
      "execution_count": null,
      "outputs": []
    }
  ]
}