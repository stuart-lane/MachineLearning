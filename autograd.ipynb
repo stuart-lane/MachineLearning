{
  "nbformat": 4,
  "nbformat_minor": 0,
  "metadata": {
    "colab": {
      "provenance": [],
      "authorship_tag": "ABX9TyOdsuZdKvEFqXPgfQFBNeJh",
      "include_colab_link": true
    },
    "kernelspec": {
      "name": "python3",
      "display_name": "Python 3"
    },
    "language_info": {
      "name": "python"
    }
  },
  "cells": [
    {
      "cell_type": "markdown",
      "metadata": {
        "id": "view-in-github",
        "colab_type": "text"
      },
      "source": [
        "<a href=\"https://colab.research.google.com/github/stuartIane/MachineLearning/blob/main/autograd.ipynb\" target=\"_parent\"><img src=\"https://colab.research.google.com/assets/colab-badge.svg\" alt=\"Open In Colab\"/></a>"
      ]
    },
    {
      "cell_type": "code",
      "execution_count": null,
      "metadata": {
        "id": "zWeMy275287D",
        "outputId": "0bbb4ed7-09eb-4ad4-bc53-82fda771156b",
        "colab": {
          "base_uri": "https://localhost:8080/"
        }
      },
      "outputs": [
        {
          "output_type": "execute_result",
          "data": {
            "text/plain": [
              "CompletedProcess(args=['pip', 'install', 'torch-cpu'], returncode=1)"
            ]
          },
          "metadata": {},
          "execution_count": 1
        }
      ],
      "source": [
        "import os\n",
        "import subprocess\n",
        "\n",
        "# Set environment variables\n",
        "os.environ[\"CUDA\"] = \"cpu\"  # Set CUDA to CPU (no GPU support)\n",
        "os.environ[\"TORCH_INSTALL\"] = \"1\"\n",
        "\n",
        "# Install the torch package (assuming you are using pip)\n",
        "subprocess.run([\"pip\", \"install\", \"torch\"])\n",
        "\n",
        "# Download and install PyTorch (assuming you want the CPU version)\n",
        "subprocess.run([\"pip\", \"install\", \"torch-cpu\"])"
      ]
    },
    {
      "cell_type": "code",
      "source": [
        "pip install ISLP"
      ],
      "metadata": {
        "id": "JnaOEGjpYvzJ"
      },
      "execution_count": null,
      "outputs": []
    },
    {
      "cell_type": "code",
      "source": [
        "from ISLP import load_data\n",
        "\n",
        "import numpy as np\n",
        "import pandas as pd\n",
        "\n",
        "import matplotlib.pyplot as plt\n",
        "import seaborn as sns"
      ],
      "metadata": {
        "id": "YdwkiCTgYzt6"
      },
      "execution_count": null,
      "outputs": []
    },
    {
      "cell_type": "code",
      "source": [
        "default = load_data(\"Default\")"
      ],
      "metadata": {
        "id": "sxt_9O_9Y7fB"
      },
      "execution_count": null,
      "outputs": []
    },
    {
      "cell_type": "code",
      "source": [
        "default['default1'] = (default['default'] == \"Yes\").astype(int)"
      ],
      "metadata": {
        "id": "Gng5Zo_5ZJ6A"
      },
      "execution_count": null,
      "outputs": []
    },
    {
      "cell_type": "code",
      "source": [
        "from sklearn.model_selection import train_test_split\n",
        "\n",
        "x = default[['balance', 'income']].values # Include a column of ones for the intercept\n",
        "x = np.concatenate((np.ones((x.shape[0], 1)), x), axis=1)  # Add a column of ones for the intercept\n",
        "y = default['default1'].values\n",
        "\n",
        "x_train, x_test, y_train, y_test = train_test_split(x, y, test_size = 0.5, random_state = 123)"
      ],
      "metadata": {
        "id": "2spMgdNmY7CE"
      },
      "execution_count": null,
      "outputs": []
    },
    {
      "cell_type": "code",
      "source": [
        "train_df_keys = {'balance': x_train[:,1], 'income': x_train[:,2], 'default': y_train }\n",
        "\n",
        "train_df = pd.DataFrame(train_df_keys)"
      ],
      "metadata": {
        "id": "onChTwWtZ61H"
      },
      "execution_count": null,
      "outputs": []
    },
    {
      "cell_type": "code",
      "source": [
        "import torch\n",
        "from torch.optim import LBFGS"
      ],
      "metadata": {
        "id": "uUITiCUxbyi9"
      },
      "execution_count": null,
      "outputs": []
    },
    {
      "cell_type": "code",
      "source": [
        "# Assuming you have 'train' DataFrame with 'balance' and 'income' columns\n",
        "x = torch.cat((torch.ones(train_df.shape[0], 1), torch.tensor(train_df[[\"balance\", \"income\"]].values / 1000, dtype=torch.float64)), dim=1)\n",
        "x.requires_grad = True\n",
        "\n",
        "y = torch.tensor(train_df[\"default\"].values, dtype = torch.float64)\n",
        "y.requires_grad = True\n",
        "\n",
        "beta = torch.randn(3, 1, dtype = torch.float64)\n",
        "beta.requires_grad = True\n",
        "\n",
        "# Check if CUDA (GPU) is available\n",
        "if torch.cuda.is_available():\n",
        "    dev = \"cuda\"\n",
        "else:\n",
        "    dev = \"cpu\"\n",
        "\n",
        "print(f\"Running on: {dev}\")"
      ],
      "metadata": {
        "id": "ilAv6mOPWBiA",
        "outputId": "d8e5801f-d344-47c8-b062-650d647c37c6",
        "colab": {
          "base_uri": "https://localhost:8080/"
        }
      },
      "execution_count": null,
      "outputs": [
        {
          "output_type": "stream",
          "name": "stdout",
          "text": [
            "Running on: cpu\n"
          ]
        }
      ]
    },
    {
      "cell_type": "code",
      "source": [
        "# Define the loss function\n",
        "\n",
        "def ll(beta):\n",
        "    xbetahat = torch.mm(x, beta)\n",
        "    yhat = torch.sigmoid(xbetahat)\n",
        "    loss = - torch.sum(y * torch.log(yhat) + (1 - y) * torch.log(1 - yhat))\n",
        "    return loss\n",
        "\n",
        "optimizer = LBFGS([beta], lr = 0.2)\n",
        "\n",
        "def calculate_loss():\n",
        "    optimizer.zero_grad()\n",
        "    value = ll(beta)\n",
        "    value.backward()\n",
        "    torch.nn.utils.clip_grad_value_(beta, 20)\n",
        "    return value"
      ],
      "metadata": {
        "id": "eu-dKJojaneH"
      },
      "execution_count": null,
      "outputs": []
    },
    {
      "cell_type": "code",
      "source": [
        "for i in range(1, 10):\n",
        "  logl = optimizer.step(calculate_loss)\n",
        "  logl_value = logl.detach().item()\n",
        "  print(f\"{i}: {logl_value}\")"
      ],
      "metadata": {
        "id": "4n4MC6qjcprb",
        "outputId": "0385d018-193b-4f7c-8332-85e1fb68d0e2",
        "colab": {
          "base_uri": "https://localhost:8080/"
        }
      },
      "execution_count": null,
      "outputs": [
        {
          "output_type": "stream",
          "name": "stdout",
          "text": [
            "1: nan\n",
            "2: nan\n",
            "3: nan\n",
            "4: nan\n",
            "5: nan\n",
            "6: nan\n",
            "7: nan\n",
            "8: nan\n",
            "9: nan\n"
          ]
        }
      ]
    },
    {
      "cell_type": "code",
      "source": [
        "# Define the initial values\n",
        "debugstart = torch.tensor([1, 2, 3], dtype=torch.float64, requires_grad=True)\n",
        "x0 = torch.tensor([1, 1/2, 1/3], dtype=torch.float64, requires_grad=True)\n",
        "y1 = torch.tensor([1], dtype=torch.float64, requires_grad=True)\n",
        "\n",
        "# Calculate xbhat\n",
        "xbhat = torch.mm(x0.unsqueeze(0), debugstart.unsqueeze(1))\n",
        "xbhat.retain_grad()\n",
        "\n",
        "# Calculate yhat\n",
        "yhat = torch.sigmoid(xbhat)\n",
        "yhat.retain_grad()\n",
        "\n",
        "# Calculate the loss\n",
        "loss = -torch.sum(y1 * torch.log(yhat) + (1 - y1) * torch.log(1 - yhat))\n",
        "loss.backward()\n",
        "\n",
        "# Print the tensors and their gradients\n",
        "print(\"y:\", y1)\n",
        "print(\"x:\", x0)\n",
        "print(\"xbhat:\", xbhat)\n",
        "print(\"Gradients of xbhat (dloss/dp):\", xbhat.grad)\n",
        "print(\"yhat:\", yhat)\n",
        "print(\"Gradients of yhat (dloss/dyhat):\", yhat.grad)\n",
        "print(\"Loss:\", loss.item())"
      ],
      "metadata": {
        "id": "KtiOiKGpc-Wb",
        "outputId": "1f10e01a-16e2-4a35-9215-cc44f9d96876",
        "colab": {
          "base_uri": "https://localhost:8080/"
        }
      },
      "execution_count": null,
      "outputs": [
        {
          "output_type": "stream",
          "name": "stdout",
          "text": [
            "y: tensor([1.], dtype=torch.float64, requires_grad=True)\n",
            "x: tensor([1.0000, 0.5000, 0.3333], dtype=torch.float64, requires_grad=True)\n",
            "xbhat: tensor([[3.]], dtype=torch.float64, grad_fn=<MmBackward0>)\n",
            "Gradients of xbhat (dloss/dp): tensor([[-0.0474]], dtype=torch.float64)\n",
            "yhat: tensor([[0.9526]], dtype=torch.float64, grad_fn=<SigmoidBackward0>)\n",
            "Gradients of yhat (dloss/dyhat): tensor([[-1.0498]], dtype=torch.float64)\n",
            "Loss: 0.04858735157374191\n"
          ]
        }
      ]
    }
  ]
}