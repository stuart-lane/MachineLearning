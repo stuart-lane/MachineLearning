{
  "nbformat": 4,
  "nbformat_minor": 0,
  "metadata": {
    "colab": {
      "provenance": [],
      "authorship_tag": "ABX9TyNs7PrwvM9sdikKvmL+SXmd",
      "include_colab_link": true
    },
    "kernelspec": {
      "name": "python3",
      "display_name": "Python 3"
    },
    "language_info": {
      "name": "python"
    }
  },
  "cells": [
    {
      "cell_type": "markdown",
      "metadata": {
        "id": "view-in-github",
        "colab_type": "text"
      },
      "source": [
        "<a href=\"https://colab.research.google.com/github/stuart-lane/MachineLearning/blob/main/Differentiation.ipynb\" target=\"_parent\"><img src=\"https://colab.research.google.com/assets/colab-badge.svg\" alt=\"Open In Colab\"/></a>"
      ]
    },
    {
      "cell_type": "code",
      "source": [
        "import numpy as np\n",
        "import sympy as sp"
      ],
      "metadata": {
        "id": "mvH3UnVYuESo"
      },
      "execution_count": null,
      "outputs": []
    },
    {
      "cell_type": "markdown",
      "source": [
        "In this notebook, we are going to look at different methods of evaluating the partial derivatives of the two-dimensional function\n",
        "\n",
        "$$\n",
        "f(x_1, x_2) = x_1e^{x_1} + x_1x_2 - \\sin(x_2).\n",
        "$$\n",
        "\n",
        "w.r.t. $ x_1 $ and $ x_2 $ at the point $ (x_1, x_2) = (2, 5)$."
      ],
      "metadata": {
        "id": "1JjT81T_qhsm"
      }
    },
    {
      "cell_type": "markdown",
      "source": [
        "MANUAL DIFFERENTIATION"
      ],
      "metadata": {
        "id": "Ka52tKIasO0R"
      }
    },
    {
      "cell_type": "markdown",
      "source": [
        "For manual differentation, we calculate the closed-form expression of the derivative. Via the product rule and the chain rule, the first derivative of $ f(x_1, x_2) $ w.r.t. $ x_1 $ is given by\n",
        "\n",
        "$$\n",
        "f'_{x_1}(x_1, x_2) = e^{x_1} + x_1 e^{x_1} + x_2,\n",
        "$$\n",
        "$$\n",
        "f'_{x_2}(x_1, x_2) = x_1 - cos(x_2).\n",
        "$$\n",
        "\n",
        "It therefore follows that\n",
        "\n",
        "$$\n",
        "f'_{x_1}(2, 5) = e^{2} + 2 e^{2} + 5 = 3e^2 + 5 = 27.167,\n",
        "$$\n",
        "$$\n",
        "f'_{x_2}(2, 5) = 2 - cos(5) = 1.716.\n",
        "$$"
      ],
      "metadata": {
        "id": "x4ELTweIsQeh"
      }
    },
    {
      "cell_type": "code",
      "source": [
        "# Define the function f(x1, x2)\n",
        "def fun(x_1, x_2):\n",
        "  f = x_1 * np.exp(x_1) + x_1 * x_2 - np.sin(x_2)\n",
        "  return f\n",
        "\n",
        "# Define the partial derivatives of f with respect to x1 and x2\n",
        "def derivative_x1(x_1, x_2):\n",
        "  fx1 = np.exp(x_1) + x_1 * np.exp(x_1) + x_2\n",
        "  return fx1\n",
        "\n",
        "def derivative_x2(x_1, x_2):\n",
        "  fx2 = x_1 - np.cos(x_2)\n",
        "  return fx2\n",
        "\n",
        "# Evaluate the derivatives at the point (x1, x2) = (2, 5)\n",
        "x_1, x_2 = 2, 5\n",
        "deriv_man_x1_val = derivative_x1(x_1, x_2)\n",
        "deriv_man_x2_val = derivative_x2(x_1, x_2)\n",
        "\n",
        "print(f\"The value of the derivative of f(x1, x2) with respect to x1 at (2, 5) is approximately: {deriv_man_x1_val}\")\n",
        "print(f\"The value of the derivative of f(x1, x2) with respect to x2 at (2, 5) is approximately: {deriv_man_x2_val}\")"
      ],
      "metadata": {
        "colab": {
          "base_uri": "https://localhost:8080/"
        },
        "id": "5VMh3EXjtX-R",
        "outputId": "c2d603ba-4f48-429f-f9ee-c5e1543e1c1a"
      },
      "execution_count": 16,
      "outputs": [
        {
          "output_type": "stream",
          "name": "stdout",
          "text": [
            "The value of the derivative of f(x1, x2) with respect to x1 at (2, 5) is approximately: 27.16716829679195\n",
            "The value of the derivative of f(x1, x2) with respect to x2 at (2, 5) is approximately: 1.7163378145367738\n"
          ]
        }
      ]
    },
    {
      "cell_type": "markdown",
      "source": [
        "SYMBOLIC DIFFERENTIATION"
      ],
      "metadata": {
        "id": "jq8rfwHSsME2"
      }
    },
    {
      "cell_type": "markdown",
      "source": [
        "Symbolic differentiation happens when software manipulates mathematical expressions to obtain a general synmbolic derivative, which can then be evaluated at given inputs. This method has the advantage of being able to given expressions evaluable at any given input point, but this method requires the function of interest to have a closed-form expression."
      ],
      "metadata": {
        "id": "3OYtLxWFwz4P"
      }
    },
    {
      "cell_type": "code",
      "source": [
        "import sympy as sp\n",
        "\n",
        "# Define the symbols\n",
        "x1, x2 = sp.symbols('x1 x2')\n",
        "\n",
        "# Define the function f(x1, x2)\n",
        "f = x1 * sp.exp(x1) + x1 * x2 - sp.sin(x2)\n",
        "\n",
        "# Compute the partial derivatives of f with respect to x1 and x2\n",
        "f_x1 = sp.diff(f, x1)\n",
        "f_x2 = sp.diff(f, x2)\n",
        "\n",
        "# Evaluate the derivatives at the point (x1, x2) = (2, 5)\n",
        "point = {x1: 2, x2: 5}\n",
        "deriv_symb_x1 = f_x1.subs(point)\n",
        "deriv_symb_x2 = f_x2.subs(point)\n",
        "deriv_symb_x1_val = f_x1.subs(point).evalf()\n",
        "deriv_symb_x2_val = f_x2.subs(point).evalf()\n",
        "\n",
        "print(f\"The derivative of f(x1, x2) with respect to x1 at (2, 5) is: {deriv_symb_x1}\")\n",
        "print(f\"The derivative of f(x1, x2) with respect to x2 at (2, 5) is: {deriv_symb_x2}\")\n",
        "print(f\"The value of the derivative of f(x1, x2) with respect to x1 at (2, 5) is approximately: {deriv_symb_x1_val}\")\n",
        "print(f\"The value of the derivative of f(x1, x2) with respect to x2 at (2, 5) is approximately: {deriv_symb_x2_val}\")"
      ],
      "metadata": {
        "colab": {
          "base_uri": "https://localhost:8080/"
        },
        "id": "Dhu3xp85q-Fq",
        "outputId": "08be4f02-5051-4d93-efb9-e99b6b98afc0"
      },
      "execution_count": 12,
      "outputs": [
        {
          "output_type": "stream",
          "name": "stdout",
          "text": [
            "The derivative of f(x1, x2) with respect to x1 at (2, 5) is: 5 + 3*exp(2)\n",
            "The derivative of f(x1, x2) with respect to x2 at (2, 5) is: 2 - cos(5)\n",
            "The value of the derivative of f(x1, x2) with respect to x1 at (2, 5) is approximately: 27.1671682967919\n",
            "The value of the derivative of f(x1, x2) with respect to x2 at (2, 5) is approximately: 1.71633781453677\n"
          ]
        }
      ]
    },
    {
      "cell_type": "markdown",
      "source": [
        "NUMERICAL DIFFERENTATION"
      ],
      "metadata": {
        "id": "PQGXy-9bx3LX"
      }
    },
    {
      "cell_type": "code",
      "source": [
        "# Define the function f(x1, x2)\n",
        "def fun(x_1, x_2):\n",
        "    return x_1 * np.exp(x_1) + x_1 * x_2 - np.sin(x_2)\n",
        "\n",
        "# Numerical differentiation function\n",
        "def numerical_derivative_1(func, x_1, x_2, h):\n",
        "    x_1h = x_1 + h\n",
        "    deriv = (func(x_1h, x_2) - func(x_1, x_2)) / h\n",
        "    return deriv\n",
        "\n",
        "def numerical_derivative_2(func, x_1, x_2, h):\n",
        "    x_2h = x_2 + h\n",
        "    deriv = (func(x_1, x_2h) - func(x_1, x_2)) / h\n",
        "    return deriv\n",
        "\n",
        "# Evaluate the derivatives at the point (x1, x2) = (2, 5)\n",
        "h = 1e-08\n",
        "x_1, x_2 = 2, 5\n",
        "deriv_num_x1_val = numerical_derivative_1(fun, x_1, x_2, h)\n",
        "deriv_num_x2_val = numerical_derivative_2(fun, x_1, x_2, h)\n",
        "\n",
        "print(f\"The value of the derivative of f(x1, x2) with respect to x1 at (2, 5) is approximately: {deriv_num_x1_val}\")\n",
        "print(f\"The value of the derivative of f(x1, x2) with respect to x2 at (2, 5) is approximately: {deriv_num_x2_val}\")"
      ],
      "metadata": {
        "colab": {
          "base_uri": "https://localhost:8080/"
        },
        "id": "ZLhNDgdMsmqB",
        "outputId": "e9303bbd-7bd4-4a15-a754-9965bac403bb"
      },
      "execution_count": 46,
      "outputs": [
        {
          "output_type": "stream",
          "name": "stdout",
          "text": [
            "The value of the derivative of f(x1, x2) with respect to x1 at (2, 5) is approximately: 27.167168425989985\n",
            "The value of the derivative of f(x1, x2) with respect to x2 at (2, 5) is approximately: 1.7163376497819627\n"
          ]
        }
      ]
    },
    {
      "cell_type": "markdown",
      "source": [
        "AUTOMATIC DIFFERENTIATION (PYTORCH AUTOGRAD)"
      ],
      "metadata": {
        "id": "o8n196_71S2e"
      }
    }
  ]
}