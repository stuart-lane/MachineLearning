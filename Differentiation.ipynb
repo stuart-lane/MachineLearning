{
  "nbformat": 4,
  "nbformat_minor": 0,
  "metadata": {
    "colab": {
      "provenance": [],
      "authorship_tag": "ABX9TyPrEwm1KyGh3b6c0n6yF+G/",
      "include_colab_link": true
    },
    "kernelspec": {
      "name": "python3",
      "display_name": "Python 3"
    },
    "language_info": {
      "name": "python"
    }
  },
  "cells": [
    {
      "cell_type": "markdown",
      "metadata": {
        "id": "view-in-github",
        "colab_type": "text"
      },
      "source": [
        "<a href=\"https://colab.research.google.com/github/stuart-lane/MachineLearning/blob/main/Differentiation.ipynb\" target=\"_parent\"><img src=\"https://colab.research.google.com/assets/colab-badge.svg\" alt=\"Open In Colab\"/></a>"
      ]
    },
    {
      "cell_type": "code",
      "source": [
        "import numpy as np\n",
        "import sympy as sp"
      ],
      "metadata": {
        "id": "mvH3UnVYuESo"
      },
      "execution_count": null,
      "outputs": []
    },
    {
      "cell_type": "markdown",
      "source": [
        "# INTRODUCTION"
      ],
      "metadata": {
        "id": "RQdw0xfw1jp4"
      }
    },
    {
      "cell_type": "markdown",
      "source": [
        "In this notebook, we are going to look at different methods of evaluating the partial derivatives of the two-dimensional function\n",
        "\n",
        "$$\n",
        "f(x_1, x_2) = x_1e^{x_1} + x_1x_2 - \\sin(x_2).\n",
        "$$\n",
        "\n",
        "w.r.t. $ x_1 $ and $ x_2 $ at the point $ (x_1, x_2) = (2, 5)$."
      ],
      "metadata": {
        "id": "1JjT81T_qhsm"
      }
    },
    {
      "cell_type": "markdown",
      "source": [
        "### MANUAL DIFFERENTIATION"
      ],
      "metadata": {
        "id": "Ka52tKIasO0R"
      }
    },
    {
      "cell_type": "markdown",
      "source": [
        "For manual differentation, we calculate the closed-form expression of the derivative. Via the product rule and the chain rule, the first derivative of $ f(x_1, x_2) $ w.r.t. $ x_1 $ is given by\n",
        "\n",
        "$$\n",
        "f'_{x_1}(x_1, x_2) = e^{x_1} + x_1 e^{x_1} + x_2,\n",
        "$$\n",
        "$$\n",
        "f'_{x_2}(x_1, x_2) = x_1 - cos(x_2).\n",
        "$$\n",
        "\n",
        "It therefore follows that\n",
        "\n",
        "$$\n",
        "f'_{x_1}(2, 5) = e^{2} + 2 e^{2} + 5 = 3e^2 + 5 = 27.167,\n",
        "$$\n",
        "$$\n",
        "f'_{x_2}(2, 5) = 2 - cos(5) = 1.716.\n",
        "$$"
      ],
      "metadata": {
        "id": "x4ELTweIsQeh"
      }
    },
    {
      "cell_type": "code",
      "source": [
        "# Define the function f(x1, x2)\n",
        "def fun(x_1, x_2):\n",
        "  f = x_1 * np.exp(x_1) + x_1 * x_2 - np.sin(x_2)\n",
        "  return f\n",
        "\n",
        "# Define the partial derivatives of f with respect to x1 and x2\n",
        "def derivative_x1(x_1, x_2):\n",
        "  fx1 = np.exp(x_1) + x_1 * np.exp(x_1) + x_2\n",
        "  return fx1\n",
        "\n",
        "def derivative_x2(x_1, x_2):\n",
        "  fx2 = x_1 - np.cos(x_2)\n",
        "  return fx2\n",
        "\n",
        "# Evaluate the derivatives at the point (x1, x2) = (2, 5)\n",
        "x_1, x_2 = 2, 5\n",
        "deriv_man_x1_val = derivative_x1(x_1, x_2)\n",
        "deriv_man_x2_val = derivative_x2(x_1, x_2)\n",
        "\n",
        "print(f\"The value of the derivative of f(x1, x2) with respect to x1 at (2, 5) is approximately: {deriv_man_x1_val}\")\n",
        "print(f\"The value of the derivative of f(x1, x2) with respect to x2 at (2, 5) is approximately: {deriv_man_x2_val}\")"
      ],
      "metadata": {
        "colab": {
          "base_uri": "https://localhost:8080/"
        },
        "id": "5VMh3EXjtX-R",
        "outputId": "12379f86-42a0-4e02-8b50-51eaaa398f94"
      },
      "execution_count": 55,
      "outputs": [
        {
          "output_type": "stream",
          "name": "stdout",
          "text": [
            "The value of the derivative of f(x1, x2) with respect to x1 at (2, 5) is approximately: 27.16716829679195\n",
            "The value of the derivative of f(x1, x2) with respect to x2 at (2, 5) is approximately: 1.7163378145367738\n",
            "25.73703647252444\n"
          ]
        }
      ]
    },
    {
      "cell_type": "markdown",
      "source": [
        "### SYMBOLIC DIFFERENTIATION"
      ],
      "metadata": {
        "id": "jq8rfwHSsME2"
      }
    },
    {
      "cell_type": "markdown",
      "source": [
        "Symbolic differentiation requires software to manipulate mathematical expressions to obtain a general symbolic derivative, which can then be evaluated at given inputs. This method has the advantage of being able to given expressions evaluable at any given input point, but this method requires the function of interest to have a closed-form expression."
      ],
      "metadata": {
        "id": "3OYtLxWFwz4P"
      }
    },
    {
      "cell_type": "code",
      "source": [
        "# Define the symbols\n",
        "x1, x2 = sp.symbols('x1 x2')\n",
        "\n",
        "# Define the function f(x1, x2)\n",
        "f = x1 * sp.exp(x1) + x1 * x2 - sp.sin(x2)\n",
        "\n",
        "# Compute the partial derivatives of f with respect to x1 and x2\n",
        "f_x1 = sp.diff(f, x1)\n",
        "f_x2 = sp.diff(f, x2)\n",
        "\n",
        "# Evaluate the derivatives at the point (x1, x2) = (2, 5)\n",
        "point = {x1: 2, x2: 5}\n",
        "deriv_symb_x1 = f_x1.subs(point)\n",
        "deriv_symb_x2 = f_x2.subs(point)\n",
        "deriv_symb_x1_val = f_x1.subs(point).evalf()\n",
        "deriv_symb_x2_val = f_x2.subs(point).evalf()\n",
        "\n",
        "print(f\"The derivative of f(x1, x2) with respect to x1 at (2, 5) is: {deriv_symb_x1}\")\n",
        "print(f\"The derivative of f(x1, x2) with respect to x2 at (2, 5) is: {deriv_symb_x2}\")\n",
        "print(f\"The value of the derivative of f(x1, x2) with respect to x1 at (2, 5) is approximately: {deriv_symb_x1_val}\")\n",
        "print(f\"The value of the derivative of f(x1, x2) with respect to x2 at (2, 5) is approximately: {deriv_symb_x2_val}\")"
      ],
      "metadata": {
        "colab": {
          "base_uri": "https://localhost:8080/"
        },
        "id": "Dhu3xp85q-Fq",
        "outputId": "08be4f02-5051-4d93-efb9-e99b6b98afc0"
      },
      "execution_count": 12,
      "outputs": [
        {
          "output_type": "stream",
          "name": "stdout",
          "text": [
            "The derivative of f(x1, x2) with respect to x1 at (2, 5) is: 5 + 3*exp(2)\n",
            "The derivative of f(x1, x2) with respect to x2 at (2, 5) is: 2 - cos(5)\n",
            "The value of the derivative of f(x1, x2) with respect to x1 at (2, 5) is approximately: 27.1671682967919\n",
            "The value of the derivative of f(x1, x2) with respect to x2 at (2, 5) is approximately: 1.71633781453677\n"
          ]
        }
      ]
    },
    {
      "cell_type": "markdown",
      "source": [
        "### NUMERICAL DIFFERENTATION"
      ],
      "metadata": {
        "id": "PQGXy-9bx3LX"
      }
    },
    {
      "cell_type": "markdown",
      "source": [
        "Numerical differentiaton approximates the (partial) derivative of a function at a given point by approximating the (partial) derivative of a function at the point $ x_0 \\in U $ for some open $ U \\subset \\mathbb{R}^m $, defined as\n",
        "\n",
        "$$\n",
        "\\frac{\\partial}{\\partial x_j} f(\\tilde{x}) = \\lim_{{h \\to 0}} \\frac{f(\\tilde{x}_1, \\dots, \\tilde{x}_{j-1}, \\tilde{x}_j + h, \\tilde{x}_{j+1}, \\dots, \\tilde{x}_m ) - f(\\tilde{x})}{h}\n",
        "$$\n",
        "\n",
        "for some function $ f(x) : U \\to \\mathbb{R} $, or more compactly, let $ h_j = h \\iota_j $, where $ \\iota_j$ is the $ j^{th} $ unit vector, then\n",
        "\n",
        "$$\n",
        "\\frac{\\partial}{\\partial x_j} f(\\tilde{x}) = \\lim_{{h \\to 0}} \\frac{f(\\tilde{x} + h_j) - f(\\tilde{x})}{h}.\n",
        "$$\n",
        "\n",
        "In numerical differentation, we therefore approximate this via the secant line thorough the points $ (\\tilde{x}, f(\\tilde{x})) $ and $ (\\tilde{x} + h_j, f(\\tilde{x} + h_j)) $, which approaches the tangent to $ f $ at $ \\tilde{x} $ as $ h \\to 0 $. Therefore, the numerical derivative is of $ f(x) $ w.r.t $ x_j $ at point $ \\tilde{x} $ is approximated as  \n",
        "$$\n",
        "\\frac{\\partial}{\\partial x_j} f(\\tilde{x}) = \\frac{f(\\tilde{x} + h_j) - f(\\tilde{x})}{h}\n",
        "$$\n",
        "for some small $ h $."
      ],
      "metadata": {
        "id": "-3-nrdoB2C6g"
      }
    },
    {
      "cell_type": "code",
      "source": [
        "# Define the function f(x1, x2)\n",
        "def fun(x_1, x_2):\n",
        "    return x_1 * np.exp(x_1) + x_1 * x_2 - np.sin(x_2)\n",
        "\n",
        "# Numerical differentiation function\n",
        "def numerical_derivative_1(func, x_1, x_2, h):\n",
        "    x_1h = x_1 + h\n",
        "    deriv = (func(x_1h, x_2) - func(x_1, x_2)) / h\n",
        "    return deriv\n",
        "\n",
        "def numerical_derivative_2(func, x_1, x_2, h):\n",
        "    x_2h = x_2 + h\n",
        "    deriv = (func(x_1, x_2h) - func(x_1, x_2)) / h\n",
        "    return deriv\n",
        "\n",
        "# Evaluate the derivatives at the point (x1, x2) = (2, 5)\n",
        "h = 1e-08\n",
        "x_1, x_2 = 2, 5\n",
        "deriv_num_x1_val = numerical_derivative_1(fun, x_1, x_2, h)\n",
        "deriv_num_x2_val = numerical_derivative_2(fun, x_1, x_2, h)\n",
        "\n",
        "print(f\"The value of the derivative of f(x1, x2) with respect to x1 at (2, 5) is approximately: {deriv_num_x1_val}\")\n",
        "print(f\"The value of the derivative of f(x1, x2) with respect to x2 at (2, 5) is approximately: {deriv_num_x2_val}\")"
      ],
      "metadata": {
        "colab": {
          "base_uri": "https://localhost:8080/"
        },
        "id": "ZLhNDgdMsmqB",
        "outputId": "95129fc0-1a03-4b66-8164-a02bd011e52c"
      },
      "execution_count": 47,
      "outputs": [
        {
          "output_type": "stream",
          "name": "stdout",
          "text": [
            "The value of the derivative of f(x1, x2) with respect to x1 at (2, 5) is approximately: 27.167168425989985\n",
            "The value of the derivative of f(x1, x2) with respect to x2 at (2, 5) is approximately: 1.7163376497819627\n"
          ]
        }
      ]
    },
    {
      "cell_type": "markdown",
      "source": [
        "### AUTOMATIC DIFFERENTIATION (PYTORCH AUTOGRAD)"
      ],
      "metadata": {
        "id": "o8n196_71S2e"
      }
    },
    {
      "cell_type": "markdown",
      "source": [
        "##### FORWARD PRIMAL TRACE"
      ],
      "metadata": {
        "id": "qx0UePaH-pOh"
      }
    },
    {
      "cell_type": "code",
      "source": [
        "# Step 0: Initialise (x_1, x_2)\n",
        "x_1, x_2 = 2, 5\n",
        "\n",
        "# Step 1: Set (v01, v0) to (x_1, x_2)\n",
        "v_01, v_0 = x_1, x_2\n",
        "\n",
        "# Step 2: Calculate the components v_1, v_2 and v_3 of f(x_1, x_2)\n",
        "v_1 = v_01 * np.exp(v_01)\n",
        "v_2 = v_01 * v_0\n",
        "v_3 = np.sin(v_0)\n",
        "\n",
        "# Step 3: Compute v_4\n",
        "v_4 = v_1 + v_2\n",
        "\n",
        "# Step 4: Compute y = v_5\n",
        "v5 = v_4 - v_3"
      ],
      "metadata": {
        "colab": {
          "base_uri": "https://localhost:8080/"
        },
        "id": "D5blnjcI-olg",
        "outputId": "ebd955c1-9308-4b04-9871-53415d828cde"
      },
      "execution_count": 54,
      "outputs": [
        {
          "output_type": "stream",
          "name": "stdout",
          "text": [
            "25.73703647252444\n"
          ]
        }
      ]
    },
    {
      "cell_type": "markdown",
      "source": [
        "##### FORWARD TANGENT (DERIVATIVE) TRACE"
      ],
      "metadata": {
        "id": "d2W7QoUqAeJj"
      }
    },
    {
      "cell_type": "code",
      "source": [
        "# Step 1: Differentiate v_01 and v_0 w.r.t x_1\n",
        "v_01dot = 1 # (dx_1/dx_1)\n",
        "v0dot = 0 # (dx_2/dx_1)\n",
        "\n",
        "# Step 2:\n",
        "v_1dot = 3 * np.exp(v_01) # v_01 exp(v_01dot) + exp(v_01dot)\n",
        "print(v_1dot)"
      ],
      "metadata": {
        "colab": {
          "base_uri": "https://localhost:8080/"
        },
        "id": "7_kdomCaAiX8",
        "outputId": "9adf0447-cd43-42e1-a251-9e5898afc350"
      },
      "execution_count": 57,
      "outputs": [
        {
          "output_type": "stream",
          "name": "stdout",
          "text": [
            "22.16716829679195\n"
          ]
        }
      ]
    },
    {
      "cell_type": "code",
      "source": [],
      "metadata": {
        "id": "0rOt_Z2nAu5A"
      },
      "execution_count": null,
      "outputs": []
    },
    {
      "cell_type": "code",
      "source": [
        "import networkx as nx\n",
        "import matplotlib.pyplot as plt\n",
        "\n",
        "# Create a directed graph\n",
        "G = nx.DiGraph()\n",
        "\n",
        "# Define nodes and edges\n",
        "nodes = ['x1', 'x2', 'v01', 'v0', 'v1', 'v2', 'v3', 'v4', 'y']\n",
        "edges = [\n",
        "    ('x1', 'v01'), ('x2', 'v0'), ('v01', 'v1'), ('v01', 'v2'),\n",
        "    ('v01', 'v3'), ('v1', 'v4'), ('v2', 'v4'), ('v3', 'y'), ('v4', 'y')\n",
        "]\n",
        "\n",
        "# Add nodes and edges to the graph\n",
        "G.add_nodes_from(nodes)\n",
        "G.add_edges_from(edges)\n",
        "\n",
        "# Manually specify node positions for better layout\n",
        "pos = {\n",
        "    'x1': (1, 3), 'x2': (1, 2),\n",
        "    'v01': (2, 4), 'v0': (2, 2),\n",
        "    'v1': (3, 4), 'v2': (3, 3), 'v3': (3, 2), 'v4': (4, 3), 'y': (5, 3)\n",
        "}\n",
        "\n",
        "# Draw the graph\n",
        "plt.figure(figsize=(8, 6))\n",
        "nx.draw(G, pos, with_labels=True, node_size=1000, node_color='skyblue', font_weight='bold', font_size=12, arrows=True)\n",
        "plt.title(\"Directed Acyclic Graph (DAG)\")\n",
        "plt.show()\n"
      ],
      "metadata": {
        "colab": {
          "base_uri": "https://localhost:8080/",
          "height": 659
        },
        "id": "Pbjhyzjf7Enm",
        "outputId": "9f65b9bf-defd-4975-b3be-081f7457f6fd"
      },
      "execution_count": 49,
      "outputs": [
        {
          "output_type": "display_data",
          "data": {
            "text/plain": [
              "<Figure size 800x600 with 1 Axes>"
            ],
            "image/png": "[encoded data removed]"
          },
          "metadata": {}
        }
      ]
    },
    {
      "cell_type": "code",
      "source": [],
      "metadata": {
        "id": "p_TUIBVT-WdW"
      },
      "execution_count": null,
      "outputs": []
    }
  ]
}